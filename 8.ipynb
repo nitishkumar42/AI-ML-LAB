{
 "cells": [
  {
   "cell_type": "code",
   "execution_count": 2,
   "metadata": {},
   "outputs": [
    {
     "name": "stdout",
     "output_type": "stream",
     "text": [
      "[[5.1 3.5 1.4 0.2]\n",
      " [4.9 3.  1.4 0.2]\n",
      " [4.7 3.2 1.3 0.2]\n",
      " [4.6 3.1 1.5 0.2]\n",
      " [5.  3.6 1.4 0.2]]\n",
      "['setosa' 'setosa' 'setosa' 'setosa' 'setosa']\n",
      "['virginica' 'setosa' 'virginica' 'virginica' 'virginica' 'versicolor'\n",
      " 'virginica' 'virginica' 'virginica' 'setosa' 'versicolor' 'versicolor'\n",
      " 'setosa' 'virginica' 'virginica' 'setosa' 'versicolor' 'versicolor'\n",
      " 'virginica' 'virginica' 'setosa' 'versicolor' 'setosa' 'virginica'\n",
      " 'setosa' 'setosa' 'setosa' 'virginica' 'versicolor' 'virginica']\n",
      "Training accuracy Score is :  0.975\n",
      "Testing accuracy Score is :  0.9666666666666667\n",
      "Training Confusion Matrix is : \n",
      " [[41  0  0]\n",
      " [ 0 42  2]\n",
      " [ 0  1 34]]\n",
      "Testing Confusion Matrix is : \n",
      " [[ 9  0  0]\n",
      " [ 0  6  0]\n",
      " [ 0  1 14]]\n"
     ]
    }
   ],
   "source": [
    "import numpy as np \n",
    "import pandas as pd \n",
    "import matplotlib.pyplot as plt \n",
    "# ### Step 2 : Load the inbuilt data or the csv/excel file into pandas dataframe and clean the data # In[66]: \n",
    "from sklearn.datasets import load_iris\n",
    "data = load_iris() \n",
    "df = pd.DataFrame(data.data, columns=data.feature_names) \n",
    "df['Class'] = data.target_names[data.target] \n",
    "df.head() \n",
    "x = df.iloc[:, :-1].values \n",
    "y = df.Class.values\n",
    "print(x[:5]) \n",
    "print(y[:5])\n",
    "from sklearn.model_selection import train_test_split \n",
    "x_train, x_test, y_train, y_test = train_test_split(x, y, test_size = 0.2)\n",
    "from sklearn.neighbors import KNeighborsClassifier \n",
    "knn_classifier = KNeighborsClassifier(n_neighbors=5) \n",
    "knn_classifier.fit(x_train, y_train)\n",
    "predictions = knn_classifier.predict(x_test) \n",
    "print(predictions)\n",
    "from sklearn.metrics import accuracy_score, confusion_matrix \n",
    "print(\"Training accuracy Score is : \", accuracy_score(y_train, knn_classifier.predict(x_train))) \n",
    "print(\"Testing accuracy Score is : \", accuracy_score(y_test, knn_classifier.predict(x_test)))\n",
    "print(\"Training Confusion Matrix is : \\n\", confusion_matrix(y_train, knn_classifier.predict(x_train))) \n",
    "print(\"Testing Confusion Matrix is : \\n\", confusion_matrix(y_test, knn_classifier.predict(x_test)))"
   ]
  },
  {
   "cell_type": "code",
   "execution_count": null,
   "metadata": {},
   "outputs": [],
   "source": []
  }
 ],
 "metadata": {
  "kernelspec": {
   "display_name": "Python 3",
   "language": "python",
   "name": "python3"
  },
  "language_info": {
   "codemirror_mode": {
    "name": "ipython",
    "version": 3
   },
   "file_extension": ".py",
   "mimetype": "text/x-python",
   "name": "python",
   "nbconvert_exporter": "python",
   "pygments_lexer": "ipython3",
   "version": "3.8.5"
  }
 },
 "nbformat": 4,
 "nbformat_minor": 2
}
